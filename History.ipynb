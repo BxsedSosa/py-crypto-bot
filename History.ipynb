{
 "cells": [
  {
   "cell_type": "code",
   "execution_count": 3,
   "id": "f270d23d-8e0d-474e-a77d-d2a40bf9018c",
   "metadata": {},
   "outputs": [],
   "source": [
    "import json\n",
    "import pandas as pd\n",
    "from binance.client import Client"
   ]
  },
  {
   "cell_type": "code",
   "execution_count": 6,
   "id": "1e433b56-4889-4e1c-a96b-04d129484c49",
   "metadata": {},
   "outputs": [],
   "source": [
    "with open(\"keys.json\", mode=\"r\", encoding=\"utf-8\") as file:\n",
    "    binance = json.load(file)"
   ]
  },
  {
   "cell_type": "code",
   "execution_count": 12,
   "id": "cac6ace4-ad88-4d65-829a-f66642a0944d",
   "metadata": {},
   "outputs": [],
   "source": [
    "client = Client(api_key = binance[\"apiKey\"], api_secret = binance[\"secretKey\"], tld= \"us\")"
   ]
  }
 ],
 "metadata": {
  "kernelspec": {
   "display_name": "Python 3 (ipykernel)",
   "language": "python",
   "name": "python3"
  },
  "language_info": {
   "codemirror_mode": {
    "name": "ipython",
    "version": 3
   },
   "file_extension": ".py",
   "mimetype": "text/x-python",
   "name": "python",
   "nbconvert_exporter": "python",
   "pygments_lexer": "ipython3",
   "version": "3.12.4"
  }
 },
 "nbformat": 4,
 "nbformat_minor": 5
}
