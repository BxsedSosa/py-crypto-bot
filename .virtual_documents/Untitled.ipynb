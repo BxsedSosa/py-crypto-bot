import json
import pandas as pd
from binance.client import Client


with open("keys.json", mode="r", encoding="utf-8") as file:
    binance = json.load(file)


client = Client(api_key = binance["apiKey"], api_secret = binance["secretKey"], tld= "us")
