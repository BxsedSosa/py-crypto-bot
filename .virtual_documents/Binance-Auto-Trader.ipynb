import json
import pandas as pd
from binance.client import Client


with open("keys.json", mode="r", encoding="utf-8") as file:
    binance = json.load(file)


client = Client(api_key = binance["apiKey"], api_secret = binance["secretKey"], tld = "us")


account = client.get_account()


lastUpdate = pd.to_datetime(account["updateTime"], unit= "ms")


df = pd.DataFrame(account["balances"])


coins = pd.DataFrame(client.get_all_coins_info())
coins


client.get_symbol_ticker(symbol = "BTCUSD")


float(client.get_symbol_ticker(symbol= "BTCUSD")["price"])


prices = client.get_all_tickers()


df = pd.DataFrame(prices)


sol_price = df[df.symbol.str.contains("SOL") & df.symbol.str.contains("USD")]


last24 = client.get_ticker(symbol = "SOLUSDT")


 
