{
 "cells": [
  {
   "cell_type": "code",
   "execution_count": 52,
   "id": "c83e9ebd-68a9-4671-91e8-d65d33e807de",
   "metadata": {},
   "outputs": [],
   "source": [
    "import json\n",
    "import pandas as pd\n",
    "from binance.client import Client"
   ]
  },
  {
   "cell_type": "code",
   "execution_count": 58,
   "id": "8bf8a573-2133-4eea-a715-9202275807e2",
   "metadata": {},
   "outputs": [],
   "source": [
    "with open(\"keys.json\", mode=\"r\", encoding=\"utf-8\") as file:\n",
    "    binance = json.load(file)"
   ]
  },
  {
   "cell_type": "code",
   "execution_count": 60,
   "id": "5560b066-7a4d-44c5-ba3a-047236b08152",
   "metadata": {},
   "outputs": [],
   "source": [
    "client = Client(api_key = binance[\"apiKey\"], api_secret = binance[\"secretKey\"], tld = \"us\")"
   ]
  },
  {
   "cell_type": "code",
   "execution_count": 65,
   "id": "e7a44ce8-0ebd-4809-ac2f-b93e9554b8c7",
   "metadata": {},
   "outputs": [],
   "source": [
    "account = client.get_account()"
   ]
  },
  {
   "cell_type": "code",
   "execution_count": 75,
   "id": "70353aef-db49-4160-b725-08b976e1676c",
   "metadata": {},
   "outputs": [],
   "source": [
    "lastUpdate = pd.to_datetime(account[\"updateTime\"], unit= \"ms\")"
   ]
  },
  {
   "cell_type": "code",
   "execution_count": 73,
   "id": "abc50834-0c21-4266-abfb-2e274f636a9e",
   "metadata": {},
   "outputs": [],
   "source": [
    "df = pd.DataFrame(account[\"balances\"])"
   ]
  },
  {
   "cell_type": "code",
   "execution_count": 79,
   "id": "4b37fb9a-e451-4d5e-812c-68a3770e6170",
   "metadata": {},
   "outputs": [
    {
     "data": {
      "text/html": [
       "<div>\n",
       "<style scoped>\n",
       "    .dataframe tbody tr th:only-of-type {\n",
       "        vertical-align: middle;\n",
       "    }\n",
       "\n",
       "    .dataframe tbody tr th {\n",
       "        vertical-align: top;\n",
       "    }\n",
       "\n",
       "    .dataframe thead th {\n",
       "        text-align: right;\n",
       "    }\n",
       "</style>\n",
       "<table border=\"1\" class=\"dataframe\">\n",
       "  <thead>\n",
       "    <tr style=\"text-align: right;\">\n",
       "      <th></th>\n",
       "      <th>coin</th>\n",
       "      <th>depositAllEnable</th>\n",
       "      <th>withdrawAllEnable</th>\n",
       "      <th>name</th>\n",
       "      <th>free</th>\n",
       "      <th>locked</th>\n",
       "      <th>freeze</th>\n",
       "      <th>withdrawing</th>\n",
       "      <th>ipoing</th>\n",
       "      <th>ipoable</th>\n",
       "      <th>storage</th>\n",
       "      <th>isLegalMoney</th>\n",
       "      <th>trading</th>\n",
       "      <th>networkList</th>\n",
       "    </tr>\n",
       "  </thead>\n",
       "  <tbody>\n",
       "    <tr>\n",
       "      <th>0</th>\n",
       "      <td>MATIC</td>\n",
       "      <td>True</td>\n",
       "      <td>True</td>\n",
       "      <td>Polygon</td>\n",
       "      <td>0</td>\n",
       "      <td>0</td>\n",
       "      <td>0</td>\n",
       "      <td>0</td>\n",
       "      <td>0</td>\n",
       "      <td>0</td>\n",
       "      <td>0</td>\n",
       "      <td>False</td>\n",
       "      <td>True</td>\n",
       "      <td>[{'network': 'BNB', 'coin': 'MATIC', 'withdraw...</td>\n",
       "    </tr>\n",
       "    <tr>\n",
       "      <th>1</th>\n",
       "      <td>APT</td>\n",
       "      <td>True</td>\n",
       "      <td>True</td>\n",
       "      <td>Aptos</td>\n",
       "      <td>0</td>\n",
       "      <td>0</td>\n",
       "      <td>0</td>\n",
       "      <td>0</td>\n",
       "      <td>0</td>\n",
       "      <td>0</td>\n",
       "      <td>0</td>\n",
       "      <td>False</td>\n",
       "      <td>True</td>\n",
       "      <td>[{'network': 'APT', 'coin': 'APT', 'withdrawIn...</td>\n",
       "    </tr>\n",
       "    <tr>\n",
       "      <th>2</th>\n",
       "      <td>STG</td>\n",
       "      <td>True</td>\n",
       "      <td>True</td>\n",
       "      <td>Stargate Finance</td>\n",
       "      <td>0</td>\n",
       "      <td>0</td>\n",
       "      <td>0</td>\n",
       "      <td>0</td>\n",
       "      <td>0</td>\n",
       "      <td>0</td>\n",
       "      <td>0</td>\n",
       "      <td>False</td>\n",
       "      <td>True</td>\n",
       "      <td>[{'network': 'ETH', 'coin': 'STG', 'withdrawIn...</td>\n",
       "    </tr>\n",
       "    <tr>\n",
       "      <th>3</th>\n",
       "      <td>TRAC</td>\n",
       "      <td>True</td>\n",
       "      <td>True</td>\n",
       "      <td>OriginTrail</td>\n",
       "      <td>0</td>\n",
       "      <td>0</td>\n",
       "      <td>0</td>\n",
       "      <td>0</td>\n",
       "      <td>0</td>\n",
       "      <td>0</td>\n",
       "      <td>0</td>\n",
       "      <td>False</td>\n",
       "      <td>True</td>\n",
       "      <td>[{'network': 'ETH', 'coin': 'TRAC', 'withdrawI...</td>\n",
       "    </tr>\n",
       "    <tr>\n",
       "      <th>4</th>\n",
       "      <td>SHIB</td>\n",
       "      <td>True</td>\n",
       "      <td>True</td>\n",
       "      <td>SHIBA INU</td>\n",
       "      <td>0</td>\n",
       "      <td>0</td>\n",
       "      <td>0</td>\n",
       "      <td>0</td>\n",
       "      <td>0</td>\n",
       "      <td>0</td>\n",
       "      <td>0</td>\n",
       "      <td>False</td>\n",
       "      <td>True</td>\n",
       "      <td>[{'network': 'BSC', 'coin': 'SHIB', 'withdrawI...</td>\n",
       "    </tr>\n",
       "    <tr>\n",
       "      <th>...</th>\n",
       "      <td>...</td>\n",
       "      <td>...</td>\n",
       "      <td>...</td>\n",
       "      <td>...</td>\n",
       "      <td>...</td>\n",
       "      <td>...</td>\n",
       "      <td>...</td>\n",
       "      <td>...</td>\n",
       "      <td>...</td>\n",
       "      <td>...</td>\n",
       "      <td>...</td>\n",
       "      <td>...</td>\n",
       "      <td>...</td>\n",
       "      <td>...</td>\n",
       "    </tr>\n",
       "    <tr>\n",
       "      <th>171</th>\n",
       "      <td>MXC</td>\n",
       "      <td>True</td>\n",
       "      <td>True</td>\n",
       "      <td>MXC</td>\n",
       "      <td>0</td>\n",
       "      <td>0</td>\n",
       "      <td>0</td>\n",
       "      <td>0</td>\n",
       "      <td>0</td>\n",
       "      <td>0</td>\n",
       "      <td>0</td>\n",
       "      <td>False</td>\n",
       "      <td>True</td>\n",
       "      <td>[{'network': 'ETH', 'coin': 'MXC', 'withdrawIn...</td>\n",
       "    </tr>\n",
       "    <tr>\n",
       "      <th>172</th>\n",
       "      <td>BUSD</td>\n",
       "      <td>False</td>\n",
       "      <td>True</td>\n",
       "      <td>BUSD</td>\n",
       "      <td>0</td>\n",
       "      <td>0</td>\n",
       "      <td>0</td>\n",
       "      <td>0</td>\n",
       "      <td>0</td>\n",
       "      <td>0</td>\n",
       "      <td>0</td>\n",
       "      <td>False</td>\n",
       "      <td>False</td>\n",
       "      <td>[{'network': 'BNB', 'coin': 'BUSD', 'withdrawI...</td>\n",
       "    </tr>\n",
       "    <tr>\n",
       "      <th>173</th>\n",
       "      <td>AXS</td>\n",
       "      <td>True</td>\n",
       "      <td>True</td>\n",
       "      <td>Axie Infinity</td>\n",
       "      <td>0</td>\n",
       "      <td>0</td>\n",
       "      <td>0</td>\n",
       "      <td>0</td>\n",
       "      <td>0</td>\n",
       "      <td>0</td>\n",
       "      <td>0</td>\n",
       "      <td>False</td>\n",
       "      <td>True</td>\n",
       "      <td>[{'network': 'ETH', 'coin': 'AXS', 'withdrawIn...</td>\n",
       "    </tr>\n",
       "    <tr>\n",
       "      <th>174</th>\n",
       "      <td>ZIL</td>\n",
       "      <td>True</td>\n",
       "      <td>True</td>\n",
       "      <td>Zilliqa</td>\n",
       "      <td>0</td>\n",
       "      <td>0</td>\n",
       "      <td>0</td>\n",
       "      <td>0</td>\n",
       "      <td>0</td>\n",
       "      <td>0</td>\n",
       "      <td>0</td>\n",
       "      <td>False</td>\n",
       "      <td>True</td>\n",
       "      <td>[{'network': 'ZIL', 'coin': 'ZIL', 'withdrawIn...</td>\n",
       "    </tr>\n",
       "    <tr>\n",
       "      <th>175</th>\n",
       "      <td>COTI</td>\n",
       "      <td>True</td>\n",
       "      <td>True</td>\n",
       "      <td>COTI</td>\n",
       "      <td>0</td>\n",
       "      <td>0</td>\n",
       "      <td>0</td>\n",
       "      <td>0</td>\n",
       "      <td>0</td>\n",
       "      <td>0</td>\n",
       "      <td>0</td>\n",
       "      <td>False</td>\n",
       "      <td>True</td>\n",
       "      <td>[{'network': 'BNB', 'coin': 'COTI', 'withdrawI...</td>\n",
       "    </tr>\n",
       "  </tbody>\n",
       "</table>\n",
       "<p>176 rows × 14 columns</p>\n",
       "</div>"
      ],
      "text/plain": [
       "      coin  depositAllEnable  withdrawAllEnable              name free locked  \\\n",
       "0    MATIC              True               True           Polygon    0      0   \n",
       "1      APT              True               True             Aptos    0      0   \n",
       "2      STG              True               True  Stargate Finance    0      0   \n",
       "3     TRAC              True               True       OriginTrail    0      0   \n",
       "4     SHIB              True               True         SHIBA INU    0      0   \n",
       "..     ...               ...                ...               ...  ...    ...   \n",
       "171    MXC              True               True               MXC    0      0   \n",
       "172   BUSD             False               True              BUSD    0      0   \n",
       "173    AXS              True               True     Axie Infinity    0      0   \n",
       "174    ZIL              True               True           Zilliqa    0      0   \n",
       "175   COTI              True               True              COTI    0      0   \n",
       "\n",
       "    freeze withdrawing ipoing ipoable storage  isLegalMoney  trading  \\\n",
       "0        0           0      0       0       0         False     True   \n",
       "1        0           0      0       0       0         False     True   \n",
       "2        0           0      0       0       0         False     True   \n",
       "3        0           0      0       0       0         False     True   \n",
       "4        0           0      0       0       0         False     True   \n",
       "..     ...         ...    ...     ...     ...           ...      ...   \n",
       "171      0           0      0       0       0         False     True   \n",
       "172      0           0      0       0       0         False    False   \n",
       "173      0           0      0       0       0         False     True   \n",
       "174      0           0      0       0       0         False     True   \n",
       "175      0           0      0       0       0         False     True   \n",
       "\n",
       "                                           networkList  \n",
       "0    [{'network': 'BNB', 'coin': 'MATIC', 'withdraw...  \n",
       "1    [{'network': 'APT', 'coin': 'APT', 'withdrawIn...  \n",
       "2    [{'network': 'ETH', 'coin': 'STG', 'withdrawIn...  \n",
       "3    [{'network': 'ETH', 'coin': 'TRAC', 'withdrawI...  \n",
       "4    [{'network': 'BSC', 'coin': 'SHIB', 'withdrawI...  \n",
       "..                                                 ...  \n",
       "171  [{'network': 'ETH', 'coin': 'MXC', 'withdrawIn...  \n",
       "172  [{'network': 'BNB', 'coin': 'BUSD', 'withdrawI...  \n",
       "173  [{'network': 'ETH', 'coin': 'AXS', 'withdrawIn...  \n",
       "174  [{'network': 'ZIL', 'coin': 'ZIL', 'withdrawIn...  \n",
       "175  [{'network': 'BNB', 'coin': 'COTI', 'withdrawI...  \n",
       "\n",
       "[176 rows x 14 columns]"
      ]
     },
     "execution_count": 79,
     "metadata": {},
     "output_type": "execute_result"
    }
   ],
   "source": [
    "coins = pd.DataFrame(client.get_all_coins_info())\n",
    "coins"
   ]
  },
  {
   "cell_type": "code",
   "execution_count": 95,
   "id": "ede2a162-c23c-4f88-8556-42f1b67fa451",
   "metadata": {},
   "outputs": [
    {
     "data": {
      "text/plain": [
       "{'symbol': 'BTCUSD', 'price': '25073.21000000'}"
      ]
     },
     "execution_count": 95,
     "metadata": {},
     "output_type": "execute_result"
    }
   ],
   "source": [
    "client.get_symbol_ticker(symbol = \"BTCUSD\")"
   ]
  },
  {
   "cell_type": "code",
   "execution_count": 97,
   "id": "a893fac6-8446-4c6b-9bb4-485f6283519d",
   "metadata": {},
   "outputs": [
    {
     "data": {
      "text/plain": [
       "25073.21"
      ]
     },
     "execution_count": 97,
     "metadata": {},
     "output_type": "execute_result"
    }
   ],
   "source": [
    "float(client.get_symbol_ticker(symbol= \"BTCUSD\")[\"price\"])"
   ]
  },
  {
   "cell_type": "code",
   "execution_count": 101,
   "id": "d53d85d9-b0d6-459c-8cb7-5d21da1dfe98",
   "metadata": {},
   "outputs": [],
   "source": [
    "prices = client.get_all_tickers()"
   ]
  },
  {
   "cell_type": "code",
   "execution_count": 105,
   "id": "c6b314ab-1d6a-436d-8ca7-5ef7496a0e93",
   "metadata": {},
   "outputs": [],
   "source": [
    "df = pd.DataFrame(prices)"
   ]
  },
  {
   "cell_type": "code",
   "execution_count": 113,
   "id": "db59983d-22ad-4727-819b-4f21af8cb3a7",
   "metadata": {},
   "outputs": [],
   "source": [
    "sol_price = df[df.symbol.str.contains(\"SOL\") & df.symbol.str.contains(\"USD\")]"
   ]
  },
  {
   "cell_type": "code",
   "execution_count": 123,
   "id": "7cee92f9-10ad-44a9-a2bf-cfedd8a796b4",
   "metadata": {},
   "outputs": [],
   "source": [
    "last24 = client.get_ticker(symbol = \"SOLUSDT\")"
   ]
  },
  {
   "cell_type": "code",
   "execution_count": null,
   "id": "0a82b44e-9319-4259-8af0-cfbf25d9c9ef",
   "metadata": {},
   "outputs": [],
   "source": [
    " "
   ]
  }
 ],
 "metadata": {
  "kernelspec": {
   "display_name": "Python 3 (ipykernel)",
   "language": "python",
   "name": "python3"
  },
  "language_info": {
   "codemirror_mode": {
    "name": "ipython",
    "version": 3
   },
   "file_extension": ".py",
   "mimetype": "text/x-python",
   "name": "python",
   "nbconvert_exporter": "python",
   "pygments_lexer": "ipython3",
   "version": "3.12.4"
  }
 },
 "nbformat": 4,
 "nbformat_minor": 5
}
